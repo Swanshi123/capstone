{
 "cells": [
  {
   "cell_type": "code",
   "execution_count": 1,
   "metadata": {},
   "outputs": [
    {
     "name": "stdout",
     "output_type": "stream",
     "text": [
      "Top destinations (Hong Kong alumni):\n",
      " Target region  Count\n",
      " United States 165000\n",
      "United Kingdom  51500\n",
      "        Canada  36160\n",
      "Mainland China  34450\n",
      "     Singapore  16320\n",
      "     Australia  14980\n",
      "        France  12980\n",
      "       Germany  10390\n",
      "         Japan   7020\n",
      " Taiwan Region   5960\n",
      "\n",
      "Top destinations (Singapore alumni):\n",
      " Target region  Count\n",
      " United States 236800\n",
      "        Canada  30000\n",
      "        France  19800\n",
      "United Kingdom  19400\n",
      "     Hong Kong  14000\n",
      "Mainland China  12300\n",
      "         India  12100\n",
      "     Australia  11800\n",
      "       Germany  10900\n",
      "         Japan   7730\n"
     ]
    }
   ],
   "source": [
    "import pandas as pd\n",
    "\n",
    "df = pd.read_excel('world.xlsx', sheet_name='Sheet1') \n",
    "df[['name','abbreviation']] = df.groupby('Source region')[['name','abbreviation']].ffill()\n",
    "\n",
    "# Aggregate total alumni counts by school region and destination country\n",
    "region_dest = df.groupby(['Source region','Target region'])['Count'].sum().reset_index()\n",
    "\n",
    "# Filter out local placements (where destination country equals the region, e.g., Hong Kong to Hong Kong)\n",
    "#It is also important in network analysis, this is the part of whether it is self-connected\n",
    "region_dest = region_dest[~((region_dest['Source region']=='HKG') & (region_dest['Target region']=='Hong Kong'))]\n",
    "region_dest = region_dest[~((region_dest['Source region']=='SGP') & (region_dest['Target region']=='Singapore'))]\n",
    "\n",
    "region_dest['Target region'] = region_dest['Target region'].replace({\n",
    "    'China': 'Mainland China',\n",
    "    'Taiwan': 'Taiwan Region'\n",
    "})\n",
    "\n",
    "\n",
    "# Top 10 destinations for Hong Kong alumni\n",
    "hk_top10 = region_dest[region_dest['Source region']=='HKG'].nlargest(10, 'Count')\n",
    "# Top 10 destinations for Singapore alumni\n",
    "sg_top10 = region_dest[region_dest['Source region']=='SGP'].nlargest(10, 'Count')\n",
    "\n",
    "print(\"Top destinations (Hong Kong alumni):\")\n",
    "print(hk_top10[['Target region','Count']].to_string(index=False))\n",
    "print(\"\\nTop destinations (Singapore alumni):\")\n",
    "print(sg_top10[['Target region','Count']].to_string(index=False))"
   ]
  },
  {
   "cell_type": "code",
   "execution_count": 2,
   "metadata": {},
   "outputs": [],
   "source": [
    "import matplotlib.pyplot as plt\n",
    "import numpy as np"
   ]
  },
  {
   "cell_type": "markdown",
   "metadata": {},
   "source": [
    "### Total number of alumni surveyed in Hong Kong and Singapore"
   ]
  },
  {
   "cell_type": "code",
   "execution_count": 4,
   "metadata": {},
   "outputs": [
    {
     "data": {
      "text/plain": [
       "Source region\n",
       "HKG    1043050\n",
       "SGP    1046780\n",
       "Name: Count, dtype: int64"
      ]
     },
     "execution_count": 4,
     "metadata": {},
     "output_type": "execute_result"
    }
   ],
   "source": [
    "df.groupby('Source region')['Count'].sum()"
   ]
  },
  {
   "cell_type": "markdown",
   "metadata": {},
   "source": [
    "### Top 10 destinations for Hong Kong and Singapore alumni"
   ]
  },
  {
   "cell_type": "code",
   "execution_count": 6,
   "metadata": {},
   "outputs": [
    {
     "data": {
      "text/html": [
       "<div>\n",
       "<style scoped>\n",
       "    .dataframe tbody tr th:only-of-type {\n",
       "        vertical-align: middle;\n",
       "    }\n",
       "\n",
       "    .dataframe tbody tr th {\n",
       "        vertical-align: top;\n",
       "    }\n",
       "\n",
       "    .dataframe thead th {\n",
       "        text-align: right;\n",
       "    }\n",
       "</style>\n",
       "<table border=\"1\" class=\"dataframe\">\n",
       "  <thead>\n",
       "    <tr style=\"text-align: right;\">\n",
       "      <th></th>\n",
       "      <th>Source region</th>\n",
       "      <th>Target region</th>\n",
       "      <th>Count</th>\n",
       "    </tr>\n",
       "  </thead>\n",
       "  <tbody>\n",
       "    <tr>\n",
       "      <th>218</th>\n",
       "      <td>HKG</td>\n",
       "      <td>United States</td>\n",
       "      <td>165000</td>\n",
       "    </tr>\n",
       "    <tr>\n",
       "      <th>217</th>\n",
       "      <td>HKG</td>\n",
       "      <td>United Kingdom</td>\n",
       "      <td>51500</td>\n",
       "    </tr>\n",
       "    <tr>\n",
       "      <th>36</th>\n",
       "      <td>HKG</td>\n",
       "      <td>Canada</td>\n",
       "      <td>36160</td>\n",
       "    </tr>\n",
       "    <tr>\n",
       "      <th>42</th>\n",
       "      <td>HKG</td>\n",
       "      <td>Mainland China</td>\n",
       "      <td>34450</td>\n",
       "    </tr>\n",
       "    <tr>\n",
       "      <th>183</th>\n",
       "      <td>HKG</td>\n",
       "      <td>Singapore</td>\n",
       "      <td>16320</td>\n",
       "    </tr>\n",
       "    <tr>\n",
       "      <th>12</th>\n",
       "      <td>HKG</td>\n",
       "      <td>Australia</td>\n",
       "      <td>14980</td>\n",
       "    </tr>\n",
       "    <tr>\n",
       "      <th>69</th>\n",
       "      <td>HKG</td>\n",
       "      <td>France</td>\n",
       "      <td>12980</td>\n",
       "    </tr>\n",
       "    <tr>\n",
       "      <th>74</th>\n",
       "      <td>HKG</td>\n",
       "      <td>Germany</td>\n",
       "      <td>10390</td>\n",
       "    </tr>\n",
       "    <tr>\n",
       "      <th>99</th>\n",
       "      <td>HKG</td>\n",
       "      <td>Japan</td>\n",
       "      <td>7020</td>\n",
       "    </tr>\n",
       "    <tr>\n",
       "      <th>200</th>\n",
       "      <td>HKG</td>\n",
       "      <td>Taiwan Region</td>\n",
       "      <td>5960</td>\n",
       "    </tr>\n",
       "  </tbody>\n",
       "</table>\n",
       "</div>"
      ],
      "text/plain": [
       "    Source region   Target region   Count\n",
       "218           HKG   United States  165000\n",
       "217           HKG  United Kingdom   51500\n",
       "36            HKG          Canada   36160\n",
       "42            HKG  Mainland China   34450\n",
       "183           HKG       Singapore   16320\n",
       "12            HKG       Australia   14980\n",
       "69            HKG          France   12980\n",
       "74            HKG         Germany   10390\n",
       "99            HKG           Japan    7020\n",
       "200           HKG   Taiwan Region    5960"
      ]
     },
     "execution_count": 6,
     "metadata": {},
     "output_type": "execute_result"
    }
   ],
   "source": [
    "hk_top10"
   ]
  },
  {
   "cell_type": "code",
   "execution_count": 7,
   "metadata": {},
   "outputs": [
    {
     "data": {
      "text/html": [
       "<div>\n",
       "<style scoped>\n",
       "    .dataframe tbody tr th:only-of-type {\n",
       "        vertical-align: middle;\n",
       "    }\n",
       "\n",
       "    .dataframe tbody tr th {\n",
       "        vertical-align: top;\n",
       "    }\n",
       "\n",
       "    .dataframe thead th {\n",
       "        text-align: right;\n",
       "    }\n",
       "</style>\n",
       "<table border=\"1\" class=\"dataframe\">\n",
       "  <thead>\n",
       "    <tr style=\"text-align: right;\">\n",
       "      <th></th>\n",
       "      <th>Source region</th>\n",
       "      <th>Target region</th>\n",
       "      <th>Count</th>\n",
       "    </tr>\n",
       "  </thead>\n",
       "  <tbody>\n",
       "    <tr>\n",
       "      <th>449</th>\n",
       "      <td>SGP</td>\n",
       "      <td>United States</td>\n",
       "      <td>236800</td>\n",
       "    </tr>\n",
       "    <tr>\n",
       "      <th>267</th>\n",
       "      <td>SGP</td>\n",
       "      <td>Canada</td>\n",
       "      <td>30000</td>\n",
       "    </tr>\n",
       "    <tr>\n",
       "      <th>300</th>\n",
       "      <td>SGP</td>\n",
       "      <td>France</td>\n",
       "      <td>19800</td>\n",
       "    </tr>\n",
       "    <tr>\n",
       "      <th>448</th>\n",
       "      <td>SGP</td>\n",
       "      <td>United Kingdom</td>\n",
       "      <td>19400</td>\n",
       "    </tr>\n",
       "    <tr>\n",
       "      <th>319</th>\n",
       "      <td>SGP</td>\n",
       "      <td>Hong Kong</td>\n",
       "      <td>14000</td>\n",
       "    </tr>\n",
       "    <tr>\n",
       "      <th>273</th>\n",
       "      <td>SGP</td>\n",
       "      <td>Mainland China</td>\n",
       "      <td>12300</td>\n",
       "    </tr>\n",
       "    <tr>\n",
       "      <th>322</th>\n",
       "      <td>SGP</td>\n",
       "      <td>India</td>\n",
       "      <td>12100</td>\n",
       "    </tr>\n",
       "    <tr>\n",
       "      <th>243</th>\n",
       "      <td>SGP</td>\n",
       "      <td>Australia</td>\n",
       "      <td>11800</td>\n",
       "    </tr>\n",
       "    <tr>\n",
       "      <th>305</th>\n",
       "      <td>SGP</td>\n",
       "      <td>Germany</td>\n",
       "      <td>10900</td>\n",
       "    </tr>\n",
       "    <tr>\n",
       "      <th>330</th>\n",
       "      <td>SGP</td>\n",
       "      <td>Japan</td>\n",
       "      <td>7730</td>\n",
       "    </tr>\n",
       "  </tbody>\n",
       "</table>\n",
       "</div>"
      ],
      "text/plain": [
       "    Source region   Target region   Count\n",
       "449           SGP   United States  236800\n",
       "267           SGP          Canada   30000\n",
       "300           SGP          France   19800\n",
       "448           SGP  United Kingdom   19400\n",
       "319           SGP       Hong Kong   14000\n",
       "273           SGP  Mainland China   12300\n",
       "322           SGP           India   12100\n",
       "243           SGP       Australia   11800\n",
       "305           SGP         Germany   10900\n",
       "330           SGP           Japan    7730"
      ]
     },
     "execution_count": 7,
     "metadata": {},
     "output_type": "execute_result"
    }
   ],
   "source": [
    "sg_top10"
   ]
  },
  {
   "cell_type": "markdown",
   "metadata": {},
   "source": [
    "### Comparison chart"
   ]
  },
  {
   "cell_type": "code",
   "execution_count": 19,
   "metadata": {},
   "outputs": [
    {
     "data": {
      "image/png": "[encoded data removed]",
      "text/plain": [
       "<Figure size 1000x700 with 1 Axes>"
      ]
     },
     "metadata": {},
     "output_type": "display_data"
    }
   ],
   "source": [
    "# Calculate total alumni for each region\n",
    "hk_total = region_dest[region_dest['Source region'] == 'HKG']['Count'].sum()\n",
    "sg_total = region_dest[region_dest['Source region'] == 'SGP']['Count'].sum()\n",
    "\n",
    "# Add percentage columns\n",
    "hk_top10['Percentage'] = hk_top10['Count'] / hk_total * 100\n",
    "sg_top10['Percentage'] = sg_top10['Count'] / sg_total * 100\n",
    "\n",
    "# Merge destination countries\n",
    "all_dest = pd.concat([hk_top10, sg_top10])['Target region'].unique()\n",
    "percent_df = pd.DataFrame({'Target region': all_dest})\n",
    "percent_df = percent_df.merge(\n",
    "    hk_top10[['Target region', 'Percentage']].rename(columns={'Percentage': 'Hong Kong'}),\n",
    "    on='Target region',\n",
    "    how='left'\n",
    ")\n",
    "percent_df = percent_df.merge(\n",
    "    sg_top10[['Target region', 'Percentage']].rename(columns={'Percentage': 'Singapore'}),\n",
    "    on='Target region',\n",
    "    how='left'\n",
    ")\n",
    "percent_df.fillna(0, inplace=True)\n",
    "percent_df = percent_df.sort_values('Hong Kong', ascending=False) #Descending\n",
    "\n",
    "# Plotting\n",
    "fig, ax = plt.subplots(figsize=(10, 7))\n",
    "y_pos = np.arange(len(percent_df))\n",
    "bar_width = 0.3 #Bar Thickness change\n",
    "\n",
    "bars_hk = ax.barh(y_pos - bar_width/2, percent_df['Hong Kong'], height=bar_width, label='Hong Kong Alumni',color='#de2910')\n",
    "bars_sg = ax.barh(y_pos + bar_width/2, percent_df['Singapore'], height=bar_width, label='Singapore Alumni',color='black')\n",
    "\n",
    "# Add labels\n",
    "for bar in bars_hk:\n",
    "    width = bar.get_width()\n",
    "    if width > 0:\n",
    "        ax.text(width + 0.5, bar.get_y() + bar.get_height()/2, f\"{width:.1f}%\", va='center', fontsize=7)\n",
    "\n",
    "for bar in bars_sg:\n",
    "    width = bar.get_width()\n",
    "    if width > 0:\n",
    "        ax.text(width + 0.5, bar.get_y() + bar.get_height()/2, f\"{width:.1f}%\", va='center', fontsize=7)\n",
    "\n",
    "ax.set_xlim(0, max(percent_df[['Hong Kong', 'Singapore']].max()) + 5)\n",
    "ax.set_yticks(y_pos)\n",
    "ax.set_yticklabels(percent_df['Target region'])\n",
    "ax.invert_yaxis()\n",
    "ax.set_xlabel('Percentage of Total Alumni (%)')\n",
    "ax.set_title('Top Global Alumni Destinations by Share: Hong Kong vs Singapore')\n",
    "ax.legend(loc='lower right')\n",
    "ax.grid(axis='x', linestyle='--', alpha=0.6)\n",
    "\n",
    "plt.tight_layout()\n",
    "plt.savefig('alumni_destination_comparison.png', dpi=300, bbox_inches='tight')\n",
    "plt.show()"
   ]
  },
  {
   "cell_type": "markdown",
   "metadata": {},
   "source": [
    "The bar chart shows the distribution of Hong Kong and Singapore alumni in major study abroad destinations around the world, measured by their share of the total number of alumni.\n",
    "- The United States is the most popular study abroad destination for both regions, with 41.4% of Hong Kong alumni and 53.3% of Singapore alumni choosing the United States. This highlights the continued dominance of the United States as a hub for higher education and employment for East Asian graduates.\n",
    "- The United Kingdom is particularly popular among Hong Kong alumni (12.9%), more than twice that of Singapore alumni (4.4%), reflecting the UK's colonial history with Hong Kong and familiarity with British institutions.\n",
    "- Mainland China: Hong Kong alumni account for 8.7% of the total, while Singapore alumni account for 2.8%, indicating a higher dependence between Hong Kong and mainland China. (Taught postgraduates return to mainland employment)\n",
    "- Hong Kong and Singapore appear in each other's top ten alumni, but in different proportions. In general, more alumni from Hong Kong go to Singapore (4.1%), while fewer alumni from Singapore choose Hong Kong (3.1%)\n",
    "\n",
    "**can also add other findings**\n",
    "\n",
    "Image description\n",
    "- The bar chart reflects standardized percentages, not raw alumni numbers, so that two regions with different total alumni numbers are comparable.\n",
    "- The color scheme reflects symbolic regional characteristics (red for Hong Kong, neutral dark for Singapore)."
   ]
  },
  {
   "cell_type": "code",
   "execution_count": null,
   "metadata": {},
   "outputs": [],
   "source": []
  }
 ],
 "metadata": {
  "kernelspec": {
   "display_name": "Python 3 (ipykernel)",
   "language": "python",
   "name": "python3"
  },
  "language_info": {
   "codemirror_mode": {
    "name": "ipython",
    "version": 3
   },
   "file_extension": ".py",
   "mimetype": "text/x-python",
   "name": "python",
   "nbconvert_exporter": "python",
   "pygments_lexer": "ipython3",
   "version": "3.12.4"
  }
 },
 "nbformat": 4,
 "nbformat_minor": 4
}
