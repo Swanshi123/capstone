{
 "cells": [
  {
   "cell_type": "code",
   "execution_count": 1,
   "id": "65091958-a6c0-4bfc-8b22-59fcf94f4cfe",
   "metadata": {},
   "outputs": [
    {
     "name": "stdout",
     "output_type": "stream",
     "text": [
      "Network graph saved as network_graph_8601ed8d8b144836ac415a00bf3439ff.html\n"
     ]
    }
   ],
   "source": [
    "import pandas as pd\n",
    "from pyvis.network import Network\n",
    "import uuid\n",
    "\n",
    "# Loading and processing the data\n",
    "df = pd.read_excel('network_no self-join.xlsx')\n",
    "\n",
    "# Cleaning data: ensuring Count is numeric and removing invalid rows\n",
    "df['Count'] = pd.to_numeric(df['Count'], errors='coerce')\n",
    "df = df.dropna(subset=['school name', 'target', 'Count', 'source'])\n",
    "\n",
    "# Aggregating data to calculate node sizes (total alumni moved in per destination)\n",
    "node_sizes = df.groupby('target')['Count'].sum().to_dict()\n",
    "\n",
    "# Scaling node sizes for visualization (adjusting for better visual representation)\n",
    "max_node_size = max(node_sizes.values(), default=1)\n",
    "node_sizes = {k: 20 + 80 * (v / max_node_size) for k, v in node_sizes.items()}\n",
    "\n",
    "# Creating a pyvis network\n",
    "net = Network(height=\"800px\", width=\"100%\", directed=True, notebook=False)\n",
    "\n",
    "# Adding nodes (destinations) with sizes based on total alumni\n",
    "for node, size in node_sizes.items():\n",
    "    net.add_node(node, label=node, size=size, title=f\"Total Alumni: {int(node_sizes[node])}\")\n",
    "\n",
    "# Adding nodes for sources (if not already added as destinations)\n",
    "sources = df['source'].unique()\n",
    "for source in sources:\n",
    "    if source not in node_sizes:\n",
    "        net.add_node(source, label=source, size=20, title=f\"Source: {source}\")\n",
    "\n",
    "# Adding edges with thickness based on Count\n",
    "for _, row in df.iterrows():\n",
    "    source = row['source']\n",
    "    target = row['target']\n",
    "    count = row['Count']\n",
    "    # Scaling edge width based on count\n",
    "    max_count = df['Count'].max()\n",
    "    width = 1 + 9 * (count / max_count) if max_count > 0 else 1\n",
    "    net.add_edge(source, target, value=width, title=f\"Alumni: {int(count)}\")\n",
    "\n",
    "# Configuring network options for better visualization\n",
    "net.set_options(\"\"\"\n",
    "var options = {\n",
    "  \"nodes\": {\n",
    "    \"font\": {\n",
    "      \"size\": 12\n",
    "    }\n",
    "  },\n",
    "  \"edges\": {\n",
    "    \"arrows\": {\n",
    "      \"to\": {\n",
    "        \"enabled\": true,\n",
    "        \"scaleFactor\": 0.5\n",
    "      }\n",
    "    },\n",
    "    \"smooth\": {\n",
    "      \"type\": \"continuous\"\n",
    "    }\n",
    "  },\n",
    "  \"physics\": {\n",
    "    \"forceAtlas2Based\": {\n",
    "      \"gravitationalConstant\": -50,\n",
    "      \"centralGravity\": 0.01,\n",
    "      \"springLength\": 100\n",
    "    },\n",
    "    \"minVelocity\": 0.75,\n",
    "    \"solver\": \"forceAtlas2Based\"\n",
    "  }\n",
    "}\n",
    "\"\"\")\n",
    "\n",
    "# Generating unique filename using UUID\n",
    "output_file = f\"network_graph_{uuid.uuid4().hex}.html\"\n",
    "\n",
    "# Saving the network graph to an HTML file\n",
    "net.save_graph(output_file)\n",
    "\n",
    "print(f\"Network graph saved as {output_file}\")"
   ]
  },
  {
   "cell_type": "code",
   "execution_count": null,
   "id": "8a5ccbcd-6b81-44bd-bd09-80341b1d9e90",
   "metadata": {},
   "outputs": [],
   "source": []
  }
 ],
 "metadata": {
  "kernelspec": {
   "display_name": "Python 3 (ipykernel)",
   "language": "python",
   "name": "python3"
  },
  "language_info": {
   "codemirror_mode": {
    "name": "ipython",
    "version": 3
   },
   "file_extension": ".py",
   "mimetype": "text/x-python",
   "name": "python",
   "nbconvert_exporter": "python",
   "pygments_lexer": "ipython3",
   "version": "3.12.4"
  }
 },
 "nbformat": 4,
 "nbformat_minor": 5
}
